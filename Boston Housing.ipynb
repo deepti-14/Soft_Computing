{
 "cells": [
  {
   "cell_type": "markdown",
   "id": "cd409485",
   "metadata": {},
   "source": [
    "Q2. Considering the Boston Housing dataset, design a linear regression model considering each feature with non zero values, and report the best feature and model accordng to the R^2 metric.\n",
    "(Evaluate your linearregression model using sum of squares due to regression (SSR), sum of squares error (SSE) , sum of squares total (SST) and coefficient of determination R^2 metric)\n",
    "                                                   SST=SSR+SSE\n"
   ]
  },
  {
   "cell_type": "code",
   "execution_count": 13,
   "id": "00787485",
   "metadata": {},
   "outputs": [],
   "source": [
    "import numpy as np\n",
    "import pandas as pd\n",
    "import matplotlib as plt\n",
    "import sklearn"
   ]
  },
  {
   "cell_type": "code",
   "execution_count": 14,
   "id": "b99eeacd",
   "metadata": {},
   "outputs": [],
   "source": [
    "from sklearn.model_selection import train_test_split\n",
    "from sklearn.linear_model import LinearRegression\n",
    "from sklearn.metrics import r2_score"
   ]
  },
  {
   "cell_type": "code",
   "execution_count": 15,
   "id": "24772091",
   "metadata": {},
   "outputs": [],
   "source": [
    "#retriving data from csv file\n",
    "data = pd.read_csv('BostonHousing.csv')  \n",
    "target = data['TAX']\n",
    "data = data.drop(columns=['TAX'])"
   ]
  },
  {
   "cell_type": "code",
   "execution_count": 16,
   "id": "90dbe0b5",
   "metadata": {},
   "outputs": [],
   "source": [
    "X_train, X_test, y_train, y_test = train_test_split(data, target, test_size=0.2, random_state=30)\n",
    "\n",
    "best_r2 = -1  \n",
    "best_feature = None\n",
    "best_model = None"
   ]
  },
  {
   "cell_type": "code",
   "execution_count": 17,
   "id": "88f53a22",
   "metadata": {},
   "outputs": [],
   "source": [
    "for feature_name in data.columns:\n",
    "    X_train_feature = X_train[feature_name].values.reshape(-1, 1)\n",
    "    X_test_feature = X_test[feature_name].values.reshape(-1, 1)\n",
    "    \n",
    "    model = LinearRegression()\n",
    "    model.fit(X_train_feature, y_train)\n",
    "    \n",
    "    y_pred = model.predict(X_test_feature)\n",
    "    \n",
    "  \n",
    "    r2 = r2_score(y_test, y_pred)\n",
    "    \n",
    "  \n",
    "    if r2 > best_r2:\n",
    "        best_r2 = r2\n",
    "        best_feature = feature_name\n",
    "        best_model = model"
   ]
  },
  {
   "cell_type": "code",
   "execution_count": 18,
   "id": "3b2d8dc4",
   "metadata": {},
   "outputs": [
    {
     "name": "stdout",
     "output_type": "stream",
     "text": [
      "Best Feature: {'RAD'}\n",
      "Best R-squared: {0.8388878722077246}\n",
      "Best Model: LinearRegression()\n"
     ]
    }
   ],
   "source": [
    "print(\"Best Feature:\", {best_feature})\n",
    "print(\"Best R-squared:\", {best_r2})\n",
    "print(\"Best Model:\", best_model)"
   ]
  },
  {
   "cell_type": "code",
   "execution_count": 19,
   "id": "1c5d705d",
   "metadata": {},
   "outputs": [],
   "source": [
    "y_pred_train = best_model.predict(X_train[best_feature].values.reshape(-1, 1))\n",
    "ssr = np.sum((y_pred_train - y_train.mean()) ** 2)\n",
    "sse = np.sum((y_train - y_pred_train) ** 2)\n",
    "sst = np.sum((y_train - y_train.mean()) ** 2)\n",
    "r2_train = 1 - (sse / sst)"
   ]
  },
  {
   "cell_type": "code",
   "execution_count": null,
   "id": "c4cfc413",
   "metadata": {},
   "outputs": [],
   "source": [
    "xpoints = np.array([1, 8])\n",
    "ypoints = np.array([3, 10])\n",
    "\n",
    "plt.plot(xpoints, ypoints)\n",
    "plt.show()"
   ]
  },
  {
   "cell_type": "code",
   "execution_count": 20,
   "id": "190f89bd",
   "metadata": {},
   "outputs": [
    {
     "name": "stdout",
     "output_type": "stream",
     "text": [
      "SSR (Sum of Squares due to Regression): {9610111.7364071}\n",
      "SSE (Sum of Squares Error): {2023112.6472562698}\n",
      "SST (Sum of Squares Total): {11633224.383663367}\n",
      "R-squared (Coefficient of Determination) on training data:  {0.8260918400149366}\n"
     ]
    }
   ],
   "source": [
    "print(\"SSR (Sum of Squares due to Regression):\", {ssr})\n",
    "print(\"SSE (Sum of Squares Error):\", {sse})\n",
    "print(\"SST (Sum of Squares Total):\", {sst})\n",
    "print(\"R-squared (Coefficient of Determination) on training data: \", {r2_train})"
   ]
  },
  {
   "cell_type": "code",
   "execution_count": null,
   "id": "507daf27",
   "metadata": {},
   "outputs": [],
   "source": []
  }
 ],
 "metadata": {
  "kernelspec": {
   "display_name": "Python 3 (ipykernel)",
   "language": "python",
   "name": "python3"
  },
  "language_info": {
   "codemirror_mode": {
    "name": "ipython",
    "version": 3
   },
   "file_extension": ".py",
   "mimetype": "text/x-python",
   "name": "python",
   "nbconvert_exporter": "python",
   "pygments_lexer": "ipython3",
   "version": "3.11.4"
  }
 },
 "nbformat": 4,
 "nbformat_minor": 5
}
