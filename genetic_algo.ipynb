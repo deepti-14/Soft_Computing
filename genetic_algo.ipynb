{
 "cells": [
  {
   "cell_type": "code",
   "execution_count": 2,
   "metadata": {},
   "outputs": [
    {
     "name": "stdout",
     "output_type": "stream",
     "text": [
      "Best Individual: [1, 1, 1, 0, 0]\n",
      "Best Value: 32\n"
     ]
    },
    {
     "data": {
      "image/png": "[encoded data removed]",
      "text/plain": [
       "<Figure size 432x288 with 1 Axes>"
      ]
     },
     "metadata": {
      "needs_background": "light"
     },
     "output_type": "display_data"
    }
   ],
   "source": [
    "import random\n",
    "import matplotlib.pyplot as plt\n",
    "\n",
    "# Constants\n",
    "knapsack_capacity = 10\n",
    "num_items = 5\n",
    "population_size = 50\n",
    "max_generations = 300\n",
    "mutation_rate = 0.15\n",
    "crossover_rate = 0.7\n",
    "items = [('A', 2, 10), ('B', 3, 7), ('C', 5, 15), ('D', 7, 10), ('E', 3, 3)]\n",
    "\n",
    "# Function to calculate fitness of an individual\n",
    "def fitness(individual):\n",
    "    total_value = sum(item[2] for i, item in enumerate(items) if individual[i] == 1)\n",
    "    total_weight = sum(item[1] for i, item in enumerate(items) if individual[i] == 1)\n",
    "    if total_weight > knapsack_capacity:\n",
    "        return 0\n",
    "    else:\n",
    "        return total_value\n",
    "\n",
    "# Initialize population randomly\n",
    "population = [random.choices([0, 1], k=num_items) for _ in range(population_size)]\n",
    "\n",
    "# Lists to store best fitness values and generations\n",
    "best_fitness_values = []\n",
    "generations = []\n",
    "\n",
    "# Main loop for genetic algorithm\n",
    "for generation in range(max_generations):\n",
    "    # Calculate fitness for each individual\n",
    "    fitness_values = [fitness(individual) for individual in population]\n",
    "    \n",
    "    # Find the best individual in this generation\n",
    "    best_index = fitness_values.index(max(fitness_values))\n",
    "    best_individual = population[best_index]\n",
    "    \n",
    "    # Store best fitness and generation\n",
    "    best_fitness_values.append(max(fitness_values))\n",
    "    generations.append(generation)\n",
    "    \n",
    "    # Check termination criteria\n",
    "    if generation > 0 and abs(best_fitness_values[-1] - best_fitness_values[-2]) < 0.001:\n",
    "        break\n",
    "    \n",
    "    # Selection: Choose parents for crossover\n",
    "    selected_indices = random.choices(range(population_size), k=int(crossover_rate * population_size))\n",
    "    parents = [population[i] for i in selected_indices]\n",
    "    \n",
    "    # Crossover\n",
    "    new_population = []\n",
    "    for i in range(0, len(parents)-1, 2):\n",
    "        if random.random() < 0.5:  # Use single-point crossover\n",
    "            crossover_point = random.randint(1, num_items - 1)\n",
    "            child1 = parents[i][:crossover_point] + parents[i+1][crossover_point:]\n",
    "            child2 = parents[i+1][:crossover_point] + parents[i][crossover_point:]\n",
    "        else:  # Use two-point crossover\n",
    "            crossover_points = random.sample(range(1, num_items - 1), 2)\n",
    "            crossover_points.sort()\n",
    "            child1 = parents[i][:crossover_points[0]] + parents[i+1][crossover_points[0]:crossover_points[1]] + parents[i][crossover_points[1]:]\n",
    "            child2 = parents[i+1][:crossover_points[0]] + parents[i][crossover_points[0]:crossover_points[1]] + parents[i+1][crossover_points[1]:]\n",
    "        \n",
    "        new_population.extend([child1, child2])\n",
    "    \n",
    "    # Mutation\n",
    "    for i in range(population_size):\n",
    "        if random.random() < mutation_rate:\n",
    "            mutation_point = random.randint(0, num_items - 1)\n",
    "            population[i][mutation_point] = 1 - population[i][mutation_point]  # Flip 0 to 1 or 1 to 0\n",
    "    \n",
    "    # Replace old population with new population\n",
    "    population = new_population\n",
    "\n",
    "# Print the best individual found\n",
    "best_index = fitness_values.index(max(fitness_values))\n",
    "best_individual = population[best_index]\n",
    "print(\"Best Individual:\", best_individual)\n",
    "print(\"Best Value:\", max(fitness_values))\n",
    "\n",
    "# Plot the convergence graph\n",
    "plt.plot(generations, best_fitness_values)\n",
    "plt.xlabel(\"Generation\")\n",
    "plt.ylabel(\"Best Fitness Value\")\n",
    "plt.title(\"Convergence Graph\")\n",
    "plt.show()"
   ]
  },
  {
   "cell_type": "code",
   "execution_count": null,
   "metadata": {},
   "outputs": [],
   "source": []
  }
 ],
 "metadata": {
  "kernelspec": {
   "display_name": "Python 3",
   "language": "python",
   "name": "python3"
  },
  "language_info": {
   "codemirror_mode": {
    "name": "ipython",
    "version": 3
   },
   "file_extension": ".py",
   "mimetype": "text/x-python",
   "name": "python",
   "nbconvert_exporter": "python",
   "pygments_lexer": "ipython3",
   "version": "3.7.4"
  }
 },
 "nbformat": 4,
 "nbformat_minor": 2
}
