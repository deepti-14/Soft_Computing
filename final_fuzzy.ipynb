{
 "cells": [
  {
   "cell_type": "code",
   "execution_count": 6,
   "metadata": {},
   "outputs": [
    {
     "name": "stdout",
     "output_type": "stream",
     "text": [
      "Service quality: low\n",
      "food quality: bad\n",
      "The tip will be low\n"
     ]
    }
   ],
   "source": [
    "import numpy as np;\n",
    "\n",
    "def fuzzy_membership(x, a, b, c,d):\n",
    "    return max(min((x - a) / (b - a), 1, (d- x) / (d- c)),0)\n",
    "\n",
    "x = 2\n",
    "poor = fuzzy_membership(x, 0, 2, 4,6)\n",
    "acceptable = fuzzy_membership(x, 2, 4,6,8)\n",
    "amazing = fuzzy_membership(x, 4, 6,8,10)\n",
    "\n",
    "s_quality = \"\"\n",
    "if poor > acceptable and poor > amazing:\n",
    "    s_quality = \"low\"\n",
    "elif amazing < acceptable:\n",
    "    s_quality = \"average\"\n",
    "else:\n",
    "    s_quality = \"high\"\n",
    "\n",
    "print(\"Service quality:\",s_quality)\n",
    "\n",
    "\n",
    "def fuzzy_membership(x, a, b, c ,d):\n",
    "    return max(min((x - a) / (b - a), 1, (d- x) / (d- c)),0)\n",
    "  \n",
    "\n",
    "x = 3\n",
    "poor = fuzzy_membership(x, 0, 2, 4,6)\n",
    "acceptable = fuzzy_membership(x, 2, 4,6,8)\n",
    "amazing = fuzzy_membership(x, 4, 6,8,10)\n",
    "\n",
    "f_quality = \"\"\n",
    "if poor > acceptable and poor > amazing:\n",
    "    f_quality = \"bad\"\n",
    "elif amazing < acceptable:\n",
    "    f_quality = \"decent\"\n",
    "else:\n",
    "    f_quality = \"great\"\n",
    "\n",
    "print(\"food quality:\",f_quality)\n",
    "\n",
    "if quality==\"High\" or f_quality==\"great\":\n",
    "    print(\"The tip will be high\")\n",
    "if quality==\"average\":\n",
    "    print(\"The tip will be medium\")\n",
    "if quality==\"low\" and f_quality==\"bad\":\n",
    "    print(\"The tip will be low\")"
   ]
  },
  {
   "cell_type": "code",
   "execution_count": null,
   "metadata": {},
   "outputs": [],
   "source": []
  }
 ],
 "metadata": {
  "kernelspec": {
   "display_name": "Python 3",
   "language": "python",
   "name": "python3"
  },
  "language_info": {
   "codemirror_mode": {
    "name": "ipython",
    "version": 3
   },
   "file_extension": ".py",
   "mimetype": "text/x-python",
   "name": "python",
   "nbconvert_exporter": "python",
   "pygments_lexer": "ipython3",
   "version": "3.7.4"
  }
 },
 "nbformat": 4,
 "nbformat_minor": 2
}
